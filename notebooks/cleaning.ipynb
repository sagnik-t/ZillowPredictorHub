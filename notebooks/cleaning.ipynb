{
 "cells": [
  {
   "cell_type": "code",
   "execution_count": 4,
   "metadata": {},
   "outputs": [],
   "source": [
    "import numpy as np\n",
    "import pandas as pd\n",
    "from matplotlib import pyplot as plt\n",
    "import mplcyberpunk as mplnk\n",
    "import seaborn as sns\n",
    "import plotly.express as px\n",
    "from sklearn.base import BaseEstimator, TransformerMixin\n",
    "from sklearn.preprocessing import LabelEncoder, OneHotEncoder\n",
    "from sklearn.preprocessing import StandardScaler, MinMaxScaler, RobustScaler\n",
    "from sklearn.decomposition import PCA\n",
    "from sklearn.svm import SVR, LinearSVR\n",
    "from sklearn.ensemble import RandomForestRegressor\n",
    "from sklearn.pipeline import Pipeline\n",
    "from sklearn.compose import ColumnTransformer\n",
    "from sklearn.model_selection import train_test_split, GridSearchCV\n",
    "from sklearn.metrics import mean_squared_error, mean_absolute_percentage_error, r2_score\n",
    "from statsmodels.graphics.tsaplots import plot_acf\n",
    "import joblib"
   ]
  },
  {
   "cell_type": "code",
   "execution_count": 130,
   "metadata": {},
   "outputs": [],
   "source": [
    "df = pd.read_csv('../data/processed/median_price_all_homes.csv', index_col=0)"
   ]
  },
  {
   "cell_type": "code",
   "execution_count": 131,
   "metadata": {},
   "outputs": [
    {
     "data": {
      "text/html": [
       "<div>\n",
       "<style scoped>\n",
       "    .dataframe tbody tr th:only-of-type {\n",
       "        vertical-align: middle;\n",
       "    }\n",
       "\n",
       "    .dataframe tbody tr th {\n",
       "        vertical-align: top;\n",
       "    }\n",
       "\n",
       "    .dataframe thead th {\n",
       "        text-align: right;\n",
       "    }\n",
       "</style>\n",
       "<table border=\"1\" class=\"dataframe\">\n",
       "  <thead>\n",
       "    <tr style=\"text-align: right;\">\n",
       "      <th></th>\n",
       "      <th>RegionName</th>\n",
       "      <th>State</th>\n",
       "      <th>Metro</th>\n",
       "      <th>CountyName</th>\n",
       "      <th>timestamp</th>\n",
       "      <th>median_price</th>\n",
       "    </tr>\n",
       "  </thead>\n",
       "  <tbody>\n",
       "    <tr>\n",
       "      <th>203875</th>\n",
       "      <td>Hillsboro Beach</td>\n",
       "      <td>FL</td>\n",
       "      <td>Miami-Fort Lauderdale-West Palm Beach</td>\n",
       "      <td>Broward County</td>\n",
       "      <td>2019-12</td>\n",
       "      <td>3395.0</td>\n",
       "    </tr>\n",
       "    <tr>\n",
       "      <th>203876</th>\n",
       "      <td>Amagansett</td>\n",
       "      <td>NY</td>\n",
       "      <td>New York-Newark-Jersey City</td>\n",
       "      <td>Suffolk County</td>\n",
       "      <td>2019-12</td>\n",
       "      <td>35000.0</td>\n",
       "    </tr>\n",
       "    <tr>\n",
       "      <th>203877</th>\n",
       "      <td>Quogue</td>\n",
       "      <td>NY</td>\n",
       "      <td>New York-Newark-Jersey City</td>\n",
       "      <td>Suffolk County</td>\n",
       "      <td>2019-12</td>\n",
       "      <td>31666.0</td>\n",
       "    </tr>\n",
       "    <tr>\n",
       "      <th>203878</th>\n",
       "      <td>Ogden</td>\n",
       "      <td>KS</td>\n",
       "      <td>Manhattan</td>\n",
       "      <td>Riley County</td>\n",
       "      <td>2019-12</td>\n",
       "      <td>909.0</td>\n",
       "    </tr>\n",
       "    <tr>\n",
       "      <th>203879</th>\n",
       "      <td>Wainscott</td>\n",
       "      <td>NY</td>\n",
       "      <td>New York-Newark-Jersey City</td>\n",
       "      <td>Suffolk County</td>\n",
       "      <td>2019-12</td>\n",
       "      <td>28333.0</td>\n",
       "    </tr>\n",
       "  </tbody>\n",
       "</table>\n",
       "</div>"
      ],
      "text/plain": [
       "             RegionName State                                  Metro  \\\n",
       "203875  Hillsboro Beach    FL  Miami-Fort Lauderdale-West Palm Beach   \n",
       "203876       Amagansett    NY            New York-Newark-Jersey City   \n",
       "203877           Quogue    NY            New York-Newark-Jersey City   \n",
       "203878            Ogden    KS                              Manhattan   \n",
       "203879        Wainscott    NY            New York-Newark-Jersey City   \n",
       "\n",
       "            CountyName timestamp  median_price  \n",
       "203875  Broward County   2019-12        3395.0  \n",
       "203876  Suffolk County   2019-12       35000.0  \n",
       "203877  Suffolk County   2019-12       31666.0  \n",
       "203878    Riley County   2019-12         909.0  \n",
       "203879  Suffolk County   2019-12       28333.0  "
      ]
     },
     "execution_count": 131,
     "metadata": {},
     "output_type": "execute_result"
    }
   ],
   "source": [
    "df.tail()"
   ]
  },
  {
   "cell_type": "code",
   "execution_count": 132,
   "metadata": {},
   "outputs": [
    {
     "data": {
      "text/plain": [
       "(203880, 6)"
      ]
     },
     "execution_count": 132,
     "metadata": {},
     "output_type": "execute_result"
    }
   ],
   "source": [
    "df.shape"
   ]
  },
  {
   "cell_type": "code",
   "execution_count": 133,
   "metadata": {},
   "outputs": [
    {
     "data": {
      "text/html": [
       "<div>\n",
       "<style scoped>\n",
       "    .dataframe tbody tr th:only-of-type {\n",
       "        vertical-align: middle;\n",
       "    }\n",
       "\n",
       "    .dataframe tbody tr th {\n",
       "        vertical-align: top;\n",
       "    }\n",
       "\n",
       "    .dataframe thead th {\n",
       "        text-align: right;\n",
       "    }\n",
       "</style>\n",
       "<table border=\"1\" class=\"dataframe\">\n",
       "  <thead>\n",
       "    <tr style=\"text-align: right;\">\n",
       "      <th></th>\n",
       "      <th>median_price</th>\n",
       "    </tr>\n",
       "  </thead>\n",
       "  <tbody>\n",
       "    <tr>\n",
       "      <th>count</th>\n",
       "      <td>109832.000000</td>\n",
       "    </tr>\n",
       "    <tr>\n",
       "      <th>mean</th>\n",
       "      <td>1693.666181</td>\n",
       "    </tr>\n",
       "    <tr>\n",
       "      <th>std</th>\n",
       "      <td>1430.900602</td>\n",
       "    </tr>\n",
       "    <tr>\n",
       "      <th>min</th>\n",
       "      <td>500.000000</td>\n",
       "    </tr>\n",
       "    <tr>\n",
       "      <th>25%</th>\n",
       "      <td>1200.000000</td>\n",
       "    </tr>\n",
       "    <tr>\n",
       "      <th>50%</th>\n",
       "      <td>1500.000000</td>\n",
       "    </tr>\n",
       "    <tr>\n",
       "      <th>75%</th>\n",
       "      <td>1900.000000</td>\n",
       "    </tr>\n",
       "    <tr>\n",
       "      <th>max</th>\n",
       "      <td>50000.000000</td>\n",
       "    </tr>\n",
       "  </tbody>\n",
       "</table>\n",
       "</div>"
      ],
      "text/plain": [
       "        median_price\n",
       "count  109832.000000\n",
       "mean     1693.666181\n",
       "std      1430.900602\n",
       "min       500.000000\n",
       "25%      1200.000000\n",
       "50%      1500.000000\n",
       "75%      1900.000000\n",
       "max     50000.000000"
      ]
     },
     "execution_count": 133,
     "metadata": {},
     "output_type": "execute_result"
    }
   ],
   "source": [
    "df.describe()"
   ]
  },
  {
   "cell_type": "code",
   "execution_count": 134,
   "metadata": {},
   "outputs": [
    {
     "data": {
      "text/plain": [
       "RegionName          0\n",
       "State               0\n",
       "Metro             120\n",
       "CountyName          0\n",
       "timestamp           0\n",
       "median_price    94048\n",
       "dtype: int64"
      ]
     },
     "execution_count": 134,
     "metadata": {},
     "output_type": "execute_result"
    }
   ],
   "source": [
    "df.isnull().sum()"
   ]
  },
  {
   "cell_type": "code",
   "execution_count": 135,
   "metadata": {},
   "outputs": [],
   "source": [
    "df.rename(columns={\n",
    "    'RegionName': 'region',\n",
    "    'State':'state', \n",
    "    'Metro': 'metro',\n",
    "    'CountyName': 'county'\n",
    "    }, inplace=True)"
   ]
  },
  {
   "cell_type": "code",
   "execution_count": 136,
   "metadata": {},
   "outputs": [
    {
     "data": {
      "text/html": [
       "<div>\n",
       "<style scoped>\n",
       "    .dataframe tbody tr th:only-of-type {\n",
       "        vertical-align: middle;\n",
       "    }\n",
       "\n",
       "    .dataframe tbody tr th {\n",
       "        vertical-align: top;\n",
       "    }\n",
       "\n",
       "    .dataframe thead th {\n",
       "        text-align: right;\n",
       "    }\n",
       "</style>\n",
       "<table border=\"1\" class=\"dataframe\">\n",
       "  <thead>\n",
       "    <tr style=\"text-align: right;\">\n",
       "      <th></th>\n",
       "      <th>region</th>\n",
       "      <th>state</th>\n",
       "      <th>metro</th>\n",
       "      <th>county</th>\n",
       "      <th>timestamp</th>\n",
       "      <th>median_price</th>\n",
       "    </tr>\n",
       "  </thead>\n",
       "  <tbody>\n",
       "    <tr>\n",
       "      <th>203875</th>\n",
       "      <td>Hillsboro Beach</td>\n",
       "      <td>FL</td>\n",
       "      <td>Miami-Fort Lauderdale-West Palm Beach</td>\n",
       "      <td>Broward County</td>\n",
       "      <td>2019-12</td>\n",
       "      <td>3395.0</td>\n",
       "    </tr>\n",
       "    <tr>\n",
       "      <th>203876</th>\n",
       "      <td>Amagansett</td>\n",
       "      <td>NY</td>\n",
       "      <td>New York-Newark-Jersey City</td>\n",
       "      <td>Suffolk County</td>\n",
       "      <td>2019-12</td>\n",
       "      <td>35000.0</td>\n",
       "    </tr>\n",
       "    <tr>\n",
       "      <th>203877</th>\n",
       "      <td>Quogue</td>\n",
       "      <td>NY</td>\n",
       "      <td>New York-Newark-Jersey City</td>\n",
       "      <td>Suffolk County</td>\n",
       "      <td>2019-12</td>\n",
       "      <td>31666.0</td>\n",
       "    </tr>\n",
       "    <tr>\n",
       "      <th>203878</th>\n",
       "      <td>Ogden</td>\n",
       "      <td>KS</td>\n",
       "      <td>Manhattan</td>\n",
       "      <td>Riley County</td>\n",
       "      <td>2019-12</td>\n",
       "      <td>909.0</td>\n",
       "    </tr>\n",
       "    <tr>\n",
       "      <th>203879</th>\n",
       "      <td>Wainscott</td>\n",
       "      <td>NY</td>\n",
       "      <td>New York-Newark-Jersey City</td>\n",
       "      <td>Suffolk County</td>\n",
       "      <td>2019-12</td>\n",
       "      <td>28333.0</td>\n",
       "    </tr>\n",
       "  </tbody>\n",
       "</table>\n",
       "</div>"
      ],
      "text/plain": [
       "                 region state                                  metro  \\\n",
       "203875  Hillsboro Beach    FL  Miami-Fort Lauderdale-West Palm Beach   \n",
       "203876       Amagansett    NY            New York-Newark-Jersey City   \n",
       "203877           Quogue    NY            New York-Newark-Jersey City   \n",
       "203878            Ogden    KS                              Manhattan   \n",
       "203879        Wainscott    NY            New York-Newark-Jersey City   \n",
       "\n",
       "                county timestamp  median_price  \n",
       "203875  Broward County   2019-12        3395.0  \n",
       "203876  Suffolk County   2019-12       35000.0  \n",
       "203877  Suffolk County   2019-12       31666.0  \n",
       "203878    Riley County   2019-12         909.0  \n",
       "203879  Suffolk County   2019-12       28333.0  "
      ]
     },
     "execution_count": 136,
     "metadata": {},
     "output_type": "execute_result"
    }
   ],
   "source": [
    "df.tail()"
   ]
  },
  {
   "cell_type": "code",
   "execution_count": 137,
   "metadata": {},
   "outputs": [
    {
     "data": {
      "text/plain": [
       "region           object\n",
       "state            object\n",
       "metro            object\n",
       "county           object\n",
       "timestamp        object\n",
       "median_price    float64\n",
       "dtype: object"
      ]
     },
     "execution_count": 137,
     "metadata": {},
     "output_type": "execute_result"
    }
   ],
   "source": [
    "df.dtypes"
   ]
  },
  {
   "cell_type": "code",
   "execution_count": 138,
   "metadata": {},
   "outputs": [],
   "source": [
    "df = df.astype({\n",
    "    'region': str,\n",
    "    'state': str,\n",
    "    'metro': str,\n",
    "    'county': str,\n",
    "    'timestamp': 'datetime64[ns]'\n",
    "})"
   ]
  },
  {
   "cell_type": "code",
   "execution_count": 139,
   "metadata": {},
   "outputs": [
    {
     "data": {
      "text/plain": [
       "0   2010-01-01\n",
       "1   2010-01-01\n",
       "2   2010-01-01\n",
       "3   2010-01-01\n",
       "4   2010-01-01\n",
       "Name: timestamp, dtype: datetime64[ns]"
      ]
     },
     "execution_count": 139,
     "metadata": {},
     "output_type": "execute_result"
    }
   ],
   "source": [
    "df['timestamp'].head()"
   ]
  },
  {
   "cell_type": "code",
   "execution_count": 140,
   "metadata": {},
   "outputs": [],
   "source": [
    "df['year'] = df['timestamp'].dt.year\n",
    "df['month'] = df['timestamp'].dt.month"
   ]
  },
  {
   "cell_type": "code",
   "execution_count": 141,
   "metadata": {},
   "outputs": [
    {
     "data": {
      "text/html": [
       "<div>\n",
       "<style scoped>\n",
       "    .dataframe tbody tr th:only-of-type {\n",
       "        vertical-align: middle;\n",
       "    }\n",
       "\n",
       "    .dataframe tbody tr th {\n",
       "        vertical-align: top;\n",
       "    }\n",
       "\n",
       "    .dataframe thead th {\n",
       "        text-align: right;\n",
       "    }\n",
       "</style>\n",
       "<table border=\"1\" class=\"dataframe\">\n",
       "  <thead>\n",
       "    <tr style=\"text-align: right;\">\n",
       "      <th></th>\n",
       "      <th>region</th>\n",
       "      <th>state</th>\n",
       "      <th>metro</th>\n",
       "      <th>county</th>\n",
       "      <th>timestamp</th>\n",
       "      <th>median_price</th>\n",
       "      <th>year</th>\n",
       "      <th>month</th>\n",
       "    </tr>\n",
       "  </thead>\n",
       "  <tbody>\n",
       "    <tr>\n",
       "      <th>203875</th>\n",
       "      <td>Hillsboro Beach</td>\n",
       "      <td>FL</td>\n",
       "      <td>Miami-Fort Lauderdale-West Palm Beach</td>\n",
       "      <td>Broward County</td>\n",
       "      <td>2019-12-01</td>\n",
       "      <td>3395.0</td>\n",
       "      <td>2019</td>\n",
       "      <td>12</td>\n",
       "    </tr>\n",
       "    <tr>\n",
       "      <th>203876</th>\n",
       "      <td>Amagansett</td>\n",
       "      <td>NY</td>\n",
       "      <td>New York-Newark-Jersey City</td>\n",
       "      <td>Suffolk County</td>\n",
       "      <td>2019-12-01</td>\n",
       "      <td>35000.0</td>\n",
       "      <td>2019</td>\n",
       "      <td>12</td>\n",
       "    </tr>\n",
       "    <tr>\n",
       "      <th>203877</th>\n",
       "      <td>Quogue</td>\n",
       "      <td>NY</td>\n",
       "      <td>New York-Newark-Jersey City</td>\n",
       "      <td>Suffolk County</td>\n",
       "      <td>2019-12-01</td>\n",
       "      <td>31666.0</td>\n",
       "      <td>2019</td>\n",
       "      <td>12</td>\n",
       "    </tr>\n",
       "    <tr>\n",
       "      <th>203878</th>\n",
       "      <td>Ogden</td>\n",
       "      <td>KS</td>\n",
       "      <td>Manhattan</td>\n",
       "      <td>Riley County</td>\n",
       "      <td>2019-12-01</td>\n",
       "      <td>909.0</td>\n",
       "      <td>2019</td>\n",
       "      <td>12</td>\n",
       "    </tr>\n",
       "    <tr>\n",
       "      <th>203879</th>\n",
       "      <td>Wainscott</td>\n",
       "      <td>NY</td>\n",
       "      <td>New York-Newark-Jersey City</td>\n",
       "      <td>Suffolk County</td>\n",
       "      <td>2019-12-01</td>\n",
       "      <td>28333.0</td>\n",
       "      <td>2019</td>\n",
       "      <td>12</td>\n",
       "    </tr>\n",
       "  </tbody>\n",
       "</table>\n",
       "</div>"
      ],
      "text/plain": [
       "                 region state                                  metro  \\\n",
       "203875  Hillsboro Beach    FL  Miami-Fort Lauderdale-West Palm Beach   \n",
       "203876       Amagansett    NY            New York-Newark-Jersey City   \n",
       "203877           Quogue    NY            New York-Newark-Jersey City   \n",
       "203878            Ogden    KS                              Manhattan   \n",
       "203879        Wainscott    NY            New York-Newark-Jersey City   \n",
       "\n",
       "                county  timestamp  median_price  year  month  \n",
       "203875  Broward County 2019-12-01        3395.0  2019     12  \n",
       "203876  Suffolk County 2019-12-01       35000.0  2019     12  \n",
       "203877  Suffolk County 2019-12-01       31666.0  2019     12  \n",
       "203878    Riley County 2019-12-01         909.0  2019     12  \n",
       "203879  Suffolk County 2019-12-01       28333.0  2019     12  "
      ]
     },
     "execution_count": 141,
     "metadata": {},
     "output_type": "execute_result"
    }
   ],
   "source": [
    "df.tail()"
   ]
  },
  {
   "cell_type": "code",
   "execution_count": 142,
   "metadata": {},
   "outputs": [],
   "source": [
    "df = df[['region', 'state', 'metro', 'county', 'year', 'month', 'timestamp', 'median_price']]"
   ]
  },
  {
   "cell_type": "code",
   "execution_count": 143,
   "metadata": {},
   "outputs": [
    {
     "data": {
      "text/html": [
       "<div>\n",
       "<style scoped>\n",
       "    .dataframe tbody tr th:only-of-type {\n",
       "        vertical-align: middle;\n",
       "    }\n",
       "\n",
       "    .dataframe tbody tr th {\n",
       "        vertical-align: top;\n",
       "    }\n",
       "\n",
       "    .dataframe thead th {\n",
       "        text-align: right;\n",
       "    }\n",
       "</style>\n",
       "<table border=\"1\" class=\"dataframe\">\n",
       "  <thead>\n",
       "    <tr style=\"text-align: right;\">\n",
       "      <th></th>\n",
       "      <th>region</th>\n",
       "      <th>state</th>\n",
       "      <th>metro</th>\n",
       "      <th>county</th>\n",
       "      <th>year</th>\n",
       "      <th>month</th>\n",
       "      <th>timestamp</th>\n",
       "      <th>median_price</th>\n",
       "    </tr>\n",
       "  </thead>\n",
       "  <tbody>\n",
       "    <tr>\n",
       "      <th>203875</th>\n",
       "      <td>Hillsboro Beach</td>\n",
       "      <td>FL</td>\n",
       "      <td>Miami-Fort Lauderdale-West Palm Beach</td>\n",
       "      <td>Broward County</td>\n",
       "      <td>2019</td>\n",
       "      <td>12</td>\n",
       "      <td>2019-12-01</td>\n",
       "      <td>3395.0</td>\n",
       "    </tr>\n",
       "    <tr>\n",
       "      <th>203876</th>\n",
       "      <td>Amagansett</td>\n",
       "      <td>NY</td>\n",
       "      <td>New York-Newark-Jersey City</td>\n",
       "      <td>Suffolk County</td>\n",
       "      <td>2019</td>\n",
       "      <td>12</td>\n",
       "      <td>2019-12-01</td>\n",
       "      <td>35000.0</td>\n",
       "    </tr>\n",
       "    <tr>\n",
       "      <th>203877</th>\n",
       "      <td>Quogue</td>\n",
       "      <td>NY</td>\n",
       "      <td>New York-Newark-Jersey City</td>\n",
       "      <td>Suffolk County</td>\n",
       "      <td>2019</td>\n",
       "      <td>12</td>\n",
       "      <td>2019-12-01</td>\n",
       "      <td>31666.0</td>\n",
       "    </tr>\n",
       "    <tr>\n",
       "      <th>203878</th>\n",
       "      <td>Ogden</td>\n",
       "      <td>KS</td>\n",
       "      <td>Manhattan</td>\n",
       "      <td>Riley County</td>\n",
       "      <td>2019</td>\n",
       "      <td>12</td>\n",
       "      <td>2019-12-01</td>\n",
       "      <td>909.0</td>\n",
       "    </tr>\n",
       "    <tr>\n",
       "      <th>203879</th>\n",
       "      <td>Wainscott</td>\n",
       "      <td>NY</td>\n",
       "      <td>New York-Newark-Jersey City</td>\n",
       "      <td>Suffolk County</td>\n",
       "      <td>2019</td>\n",
       "      <td>12</td>\n",
       "      <td>2019-12-01</td>\n",
       "      <td>28333.0</td>\n",
       "    </tr>\n",
       "  </tbody>\n",
       "</table>\n",
       "</div>"
      ],
      "text/plain": [
       "                 region state                                  metro  \\\n",
       "203875  Hillsboro Beach    FL  Miami-Fort Lauderdale-West Palm Beach   \n",
       "203876       Amagansett    NY            New York-Newark-Jersey City   \n",
       "203877           Quogue    NY            New York-Newark-Jersey City   \n",
       "203878            Ogden    KS                              Manhattan   \n",
       "203879        Wainscott    NY            New York-Newark-Jersey City   \n",
       "\n",
       "                county  year  month  timestamp  median_price  \n",
       "203875  Broward County  2019     12 2019-12-01        3395.0  \n",
       "203876  Suffolk County  2019     12 2019-12-01       35000.0  \n",
       "203877  Suffolk County  2019     12 2019-12-01       31666.0  \n",
       "203878    Riley County  2019     12 2019-12-01         909.0  \n",
       "203879  Suffolk County  2019     12 2019-12-01       28333.0  "
      ]
     },
     "execution_count": 143,
     "metadata": {},
     "output_type": "execute_result"
    }
   ],
   "source": [
    "df.tail()"
   ]
  },
  {
   "cell_type": "code",
   "execution_count": 144,
   "metadata": {},
   "outputs": [],
   "source": [
    "df = df.astype({\n",
    "    'year': int,\n",
    "    'month': int\n",
    "})"
   ]
  },
  {
   "cell_type": "code",
   "execution_count": 145,
   "metadata": {},
   "outputs": [
    {
     "data": {
      "text/plain": [
       "region          1549\n",
       "state             50\n",
       "metro            343\n",
       "county           492\n",
       "year              10\n",
       "month             12\n",
       "timestamp        120\n",
       "median_price    2716\n",
       "dtype: int64"
      ]
     },
     "execution_count": 145,
     "metadata": {},
     "output_type": "execute_result"
    }
   ],
   "source": [
    "df.nunique()"
   ]
  },
  {
   "cell_type": "code",
   "execution_count": 151,
   "metadata": {},
   "outputs": [],
   "source": [
    "class Exputer(BaseEstimator, TransformerMixin):\n",
    "    \n",
    "    def __init__(self, include=True):\n",
    "        super(Exputer, self).__init__()\n",
    "        self.include = include\n",
    "    \n",
    "    def fit(self, X, y=None):\n",
    "        return self\n",
    "    \n",
    "    def transform(self, X, y=None):\n",
    "        combined_data = np.column_stack((X, y))\n",
    "        null_rows = np.isnan(combined_data).any(axis=1)\n",
    "        "
   ]
  },
  {
   "cell_type": "code",
   "execution_count": 152,
   "metadata": {},
   "outputs": [],
   "source": [
    "df.dropna(inplace=True)"
   ]
  },
  {
   "cell_type": "code",
   "execution_count": 153,
   "metadata": {},
   "outputs": [
    {
     "data": {
      "text/plain": [
       "(109832, 8)"
      ]
     },
     "execution_count": 153,
     "metadata": {},
     "output_type": "execute_result"
    }
   ],
   "source": [
    "df.shape"
   ]
  }
 ],
 "metadata": {
  "kernelspec": {
   "display_name": "env",
   "language": "python",
   "name": "python3"
  },
  "language_info": {
   "codemirror_mode": {
    "name": "ipython",
    "version": 3
   },
   "file_extension": ".py",
   "mimetype": "text/x-python",
   "name": "python",
   "nbconvert_exporter": "python",
   "pygments_lexer": "ipython3",
   "version": "3.11.0"
  }
 },
 "nbformat": 4,
 "nbformat_minor": 2
}
